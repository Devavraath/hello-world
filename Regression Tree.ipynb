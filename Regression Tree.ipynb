{
  "metadata": {
    "language_info": {
      "codemirror_mode": {
        "name": "python",
        "version": 3
      },
      "file_extension": ".py",
      "mimetype": "text/x-python",
      "name": "python",
      "nbconvert_exporter": "python",
      "pygments_lexer": "ipython3",
      "version": "3.8"
    },
    "kernelspec": {
      "name": "python",
      "display_name": "Python (Pyodide)",
      "language": "python"
    }
  },
  "nbformat_minor": 4,
  "nbformat": 4,
  "cells": [
    {
      "cell_type": "code",
      "source": "from js import fetch\nimport io\n\nURL = \"https://cf-courses-data.s3.us.cloud-object-storage.appdomain.cloud/IBMDeveloperSkillsNetwork-ML0101EN-SkillsNetwork/labs/Module%203/data/real_estate_data.csv\"\nresp = await fetch(URL)\nregression_tree_data = io.BytesIO((await resp.arrayBuffer()).to_py())\n\nimport piplite\nawait piplite.install(['pandas'])\nawait piplite.install(['numpy'])\nawait piplite.install(['scikit-learn'])\n\nimport pandas as pd\nfrom sklearn.tree import DecisionTreeRegressor\nfrom sklearn.model_selection import train_test_split\n\ndata = pd.read_csv(regression_tree_data)\ndata.isna().sum()\ndata.dropna(inplace=True)\nX = data.drop(columns=[\"MEDV\"])\nY = data[\"MEDV\"]\nX_train, X_test, Y_train, Y_test = train_test_split(X, Y, test_size = 0.2, random_state = 1)\n\"\"\"\nRegression Trees are implemented using DecisionTreeRegressor from sklearn.tree\nThe important parameters of DecisionTreeRegressor are\ncriterion: {'squared_error', 'absolute_error', 'poisson', 'friedman_mse'} - The function used to measure error\nmax_depth - The max depth the tree can be\nmin_samples_split - The minimum number of samples required to split a node\nmin_samples_leaf - The minimum number of samples that a leaf can contain\nmax_features: {\"auto\", \"sqrt\", \"log2\"} - The number of feature we examine looking for the best one, used to speed up training\nFirst lets start by creating a DecisionTreeRegressor object, setting the criterion parameter to squared_error for Squared Error\n\"\"\"\n\nregression_tree = DecisionTreeRegressor(criterion = \"squared_error\")\nregression_tree.fit(X_train, Y_train)\nregression_tree.score(X_test, Y_test)\nprediction = regression_tree.predict(X_test)\nprint(\"$\",(prediction - Y_test).abs().mean()*1000)\n",
      "metadata": {
        "trusted": true
      },
      "execution_count": 3,
      "outputs": []
    },
    {
      "cell_type": "code",
      "source": "",
      "metadata": {
        "trusted": true
      },
      "execution_count": 15,
      "outputs": [
        {
          "name": "stdout",
          "text": "$ 2829.1139240506322\n",
          "output_type": "stream"
        }
      ]
    }
  ]
}